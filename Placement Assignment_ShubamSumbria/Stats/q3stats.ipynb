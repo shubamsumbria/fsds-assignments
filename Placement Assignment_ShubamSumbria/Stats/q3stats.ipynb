{
 "cells": [
  {
   "attachments": {},
   "cell_type": "markdown",
   "metadata": {},
   "source": [
    "Q3. Consider the ‘Blood Pressure Before’ and ‘Blood Pressure After’ columns from the data and calculate the following"
   ]
  },
  {
   "cell_type": "code",
   "execution_count": 11,
   "metadata": {},
   "outputs": [],
   "source": [
    "import pandas as pd\n",
    "import numpy as np\n",
    "import matplotlib.pyplot as plt\n",
    "from scipy import stats\n",
    "\n",
    "# Load the data from CSV file\n",
    "data = pd.read_csv('data.csv')"
   ]
  },
  {
   "attachments": {},
   "cell_type": "markdown",
   "metadata": {},
   "source": [
    "a. Measure the dispersion in both and interpret the results."
   ]
  },
  {
   "cell_type": "code",
   "execution_count": 6,
   "metadata": {},
   "outputs": [
    {
     "name": "stdout",
     "output_type": "stream",
     "text": [
      "Dispersion (Range) in 'Blood Pressure Before (mmHg)': 28\n",
      "Dispersion (Range) in 'Blood Pressure After (mmHg)': 23\n"
     ]
    }
   ],
   "source": [
    "# Calculate dispersion (range) in 'Blood Pressure Before' and 'Blood Pressure After' columns\n",
    "dispersion_before = data[' Blood Pressure Before (mmHg)'].max() - data[' Blood Pressure Before (mmHg)'].min()\n",
    "dispersion_after = data[' Blood Pressure After (mmHg)'].max() - data[' Blood Pressure After (mmHg)'].min()\n",
    "\n",
    "# Interpret the results\n",
    "print(\"Dispersion (Range) in 'Blood Pressure Before (mmHg)':\", dispersion_before)\n",
    "print(\"Dispersion (Range) in 'Blood Pressure After (mmHg)':\", dispersion_after)"
   ]
  },
  {
   "attachments": {},
   "cell_type": "markdown",
   "metadata": {},
   "source": [
    "b. Calculate mean and 5% confidence interval and plot it in a graph"
   ]
  },
  {
   "cell_type": "code",
   "execution_count": 7,
   "metadata": {},
   "outputs": [],
   "source": [
    "# Calculate mean and 5% confidence interval\n",
    "mean_before = data[' Blood Pressure Before (mmHg)'].mean()\n",
    "mean_after = data[' Blood Pressure After (mmHg)'].mean()\n",
    "\n",
    "# Calculate standard error\n",
    "std_error_before = data[' Blood Pressure Before (mmHg)'].sem()\n",
    "std_error_after = data[' Blood Pressure After (mmHg)'].sem()\n",
    "\n",
    "# Calculate 5% confidence interval\n",
    "confidence_interval_before = (mean_before - 1.96 * std_error_before, mean_before + 1.96 * std_error_before)\n",
    "confidence_interval_after = (mean_after - 1.96 * std_error_after, mean_after + 1.96 * std_error_after)"
   ]
  },
  {
   "cell_type": "code",
   "execution_count": 8,
   "metadata": {},
   "outputs": [
    {
     "data": {
      "image/png": "[encoded data removed]",
      "text/plain": [
       "<Figure size 640x480 with 1 Axes>"
      ]
     },
     "metadata": {},
     "output_type": "display_data"
    }
   ],
   "source": [
    "# Plot means and confidence intervals\n",
    "plt.errorbar(x=['Before', 'After'], y=[mean_before, mean_after],\n",
    "             yerr=[1.96 * std_error_before, 1.96 * std_error_after], fmt='o')\n",
    "plt.xlabel('Blood Pressure')\n",
    "plt.ylabel('Mean')\n",
    "plt.title('Mean and 5% Confidence Interval')\n",
    "plt.show()"
   ]
  },
  {
   "attachments": {},
   "cell_type": "markdown",
   "metadata": {},
   "source": [
    "c. Calculate the Mean absolute deviation and Standard deviation and interpret the results."
   ]
  },
  {
   "cell_type": "code",
   "execution_count": 9,
   "metadata": {},
   "outputs": [
    {
     "name": "stdout",
     "output_type": "stream",
     "text": [
      "Mean Absolute Deviation (MAD) in 'Blood Pressure Before (mmHg)': 5.7118\n",
      "Mean Absolute Deviation (MAD) in 'Blood Pressure After (mmHg)': 5.9\n",
      "Standard Deviation (SD) in 'Blood Pressure Before (mmHg)': 6.5652037287505385\n",
      "Standard Deviation (SD) in 'Blood Pressure Afterv': 6.853495458523338\n"
     ]
    }
   ],
   "source": [
    "# Calculate Mean Absolute Deviation (MAD) and Standard Deviation (SD)\n",
    "mad_before = np.mean(np.abs(data[' Blood Pressure Before (mmHg)'] - mean_before))\n",
    "mad_after = np.mean(np.abs(data[' Blood Pressure After (mmHg)'] - mean_after))\n",
    "std_before = np.std(data[' Blood Pressure Before (mmHg)'])\n",
    "std_after = np.std(data[' Blood Pressure After (mmHg)'])\n",
    "print(\"Mean Absolute Deviation (MAD) in 'Blood Pressure Before (mmHg)':\", mad_before)\n",
    "print(\"Mean Absolute Deviation (MAD) in 'Blood Pressure After (mmHg)':\", mad_after)\n",
    "print(\"Standard Deviation (SD) in 'Blood Pressure Before (mmHg)':\", std_before)\n",
    "print(\"Standard Deviation (SD) in 'Blood Pressure Afterv':\", std_after)"
   ]
  },
  {
   "attachments": {},
   "cell_type": "markdown",
   "metadata": {},
   "source": [
    "Interpretation: MAD measures the average absolute deviation from the mean, while SD measures the average deviation from the mean. \n",
    "Higher values indicate greater variability in the data."
   ]
  },
  {
   "attachments": {},
   "cell_type": "markdown",
   "metadata": {},
   "source": [
    "d. Calculate the correlation coefficient and check the significance of it at 1% level of significance."
   ]
  },
  {
   "cell_type": "code",
   "execution_count": 12,
   "metadata": {},
   "outputs": [
    {
     "name": "stdout",
     "output_type": "stream",
     "text": [
      "Correlation Coefficient: 0.9779485966556016\n",
      "p-value: 0.0\n",
      "Significant correlation\n"
     ]
    }
   ],
   "source": [
    "# Calculate correlation coefficient and p-value\n",
    "correlation_coef = np.corrcoef(data[' Blood Pressure Before (mmHg)'], data[' Blood Pressure After (mmHg)'])[0, 1]\n",
    "n = len(data)\n",
    "df = n - 2  # Degrees of freedom\n",
    "t_value = correlation_coef * np.sqrt(df / (1 - correlation_coef ** 2))\n",
    "p_value = 2 * (1 - stats.t.cdf(np.abs(t_value), df=df))\n",
    "\n",
    "# Check significance at 1% level of significance\n",
    "alpha = 0.01\n",
    "if p_value < alpha:\n",
    "    significance = \"Significant correlation\"\n",
    "else:\n",
    "    significance = \"No significant correlation\"\n",
    "\n",
    "# Interpret the results\n",
    "print(\"Correlation Coefficient:\", correlation_coef)\n",
    "print(\"p-value:\", p_value)\n",
    "print(significance)\n"
   ]
  },
  {
   "cell_type": "code",
   "execution_count": null,
   "metadata": {},
   "outputs": [],
   "source": []
  },
  {
   "cell_type": "code",
   "execution_count": null,
   "metadata": {},
   "outputs": [],
   "source": []
  }
 ],
 "metadata": {
  "kernelspec": {
   "display_name": "base",
   "language": "python",
   "name": "python3"
  },
  "language_info": {
   "codemirror_mode": {
    "name": "ipython",
    "version": 3
   },
   "file_extension": ".py",
   "mimetype": "text/x-python",
   "name": "python",
   "nbconvert_exporter": "python",
   "pygments_lexer": "ipython3",
   "version": "3.10.9"
  },
  "orig_nbformat": 4
 },
 "nbformat": 4,
 "nbformat_minor": 2
}
