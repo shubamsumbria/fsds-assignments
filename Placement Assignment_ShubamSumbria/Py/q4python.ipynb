{
 "cells": [
  {
   "attachments": {},
   "cell_type": "markdown",
   "metadata": {},
   "source": [
    "Question 4 python:"
   ]
  },
  {
   "cell_type": "code",
   "execution_count": 3,
   "metadata": {},
   "outputs": [
    {
     "name": "stdout",
     "output_type": "stream",
     "text": [
      "Data downloaded and converted to CSV: earth_meteorites.csv\n"
     ]
    }
   ],
   "source": [
    "import pandas as pd\n",
    "import requests\n",
    "\n",
    "def download_and_convert_to_csv(link):\n",
    "    # Download the data from the provided link\n",
    "    response = requests.get(link)\n",
    "    data = response.json()\n",
    "\n",
    "    # Extract the required attributes from the data\n",
    "    structured_data = []\n",
    "    for meteorite in data:\n",
    "        try:\n",
    "            meteorite_data = {\n",
    "                \"name\": meteorite.get(\"name\"),\n",
    "                \"id\": meteorite.get(\"id\"),\n",
    "                \"nametype\": meteorite.get(\"nametype\"),\n",
    "                \"recclass\": meteorite.get(\"recclass\"),\n",
    "                \"mass\": meteorite.get(\"mass\"),\n",
    "                \"year\": meteorite.get(\"year\"),\n",
    "                \"reclat\": meteorite.get(\"reclat\"),\n",
    "                \"reclong\": meteorite.get(\"reclong\")\n",
    "            }\n",
    "            structured_data.append(meteorite_data)\n",
    "        except KeyError as e:\n",
    "            print(f\"KeyError: {e} - Skipping meteorite\")\n",
    "\n",
    "    # Convert the structured data to a DataFrame\n",
    "    df = pd.DataFrame(structured_data)\n",
    "\n",
    "    # Convert the DataFrame to a CSV file\n",
    "    csv_file = \"earth_meteorites.csv\"\n",
    "    df.to_csv(csv_file, index=False)\n",
    "\n",
    "    return csv_file\n",
    "\n",
    "# Example usage\n",
    "input_link = \"https://data.nasa.gov/resource/y77d-th95.json\"\n",
    "output_csv = download_and_convert_to_csv(input_link)\n",
    "print(\"Data downloaded and converted to CSV:\", output_csv)\n"
   ]
  },
  {
   "cell_type": "code",
   "execution_count": 4,
   "metadata": {},
   "outputs": [
    {
     "data": {
      "text/html": [
       "<div>\n",
       "<style scoped>\n",
       "    .dataframe tbody tr th:only-of-type {\n",
       "        vertical-align: middle;\n",
       "    }\n",
       "\n",
       "    .dataframe tbody tr th {\n",
       "        vertical-align: top;\n",
       "    }\n",
       "\n",
       "    .dataframe thead th {\n",
       "        text-align: right;\n",
       "    }\n",
       "</style>\n",
       "<table border=\"1\" class=\"dataframe\">\n",
       "  <thead>\n",
       "    <tr style=\"text-align: right;\">\n",
       "      <th></th>\n",
       "      <th>name</th>\n",
       "      <th>id</th>\n",
       "      <th>nametype</th>\n",
       "      <th>recclass</th>\n",
       "      <th>mass</th>\n",
       "      <th>year</th>\n",
       "      <th>reclat</th>\n",
       "      <th>reclong</th>\n",
       "    </tr>\n",
       "  </thead>\n",
       "  <tbody>\n",
       "    <tr>\n",
       "      <th>0</th>\n",
       "      <td>Aachen</td>\n",
       "      <td>1</td>\n",
       "      <td>Valid</td>\n",
       "      <td>L5</td>\n",
       "      <td>21.0</td>\n",
       "      <td>1880-01-01T00:00:00.000</td>\n",
       "      <td>50.77500</td>\n",
       "      <td>6.08333</td>\n",
       "    </tr>\n",
       "    <tr>\n",
       "      <th>1</th>\n",
       "      <td>Aarhus</td>\n",
       "      <td>2</td>\n",
       "      <td>Valid</td>\n",
       "      <td>H6</td>\n",
       "      <td>720.0</td>\n",
       "      <td>1951-01-01T00:00:00.000</td>\n",
       "      <td>56.18333</td>\n",
       "      <td>10.23333</td>\n",
       "    </tr>\n",
       "    <tr>\n",
       "      <th>2</th>\n",
       "      <td>Abee</td>\n",
       "      <td>6</td>\n",
       "      <td>Valid</td>\n",
       "      <td>EH4</td>\n",
       "      <td>107000.0</td>\n",
       "      <td>1952-01-01T00:00:00.000</td>\n",
       "      <td>54.21667</td>\n",
       "      <td>-113.00000</td>\n",
       "    </tr>\n",
       "    <tr>\n",
       "      <th>3</th>\n",
       "      <td>Acapulco</td>\n",
       "      <td>10</td>\n",
       "      <td>Valid</td>\n",
       "      <td>Acapulcoite</td>\n",
       "      <td>1914.0</td>\n",
       "      <td>1976-01-01T00:00:00.000</td>\n",
       "      <td>16.88333</td>\n",
       "      <td>-99.90000</td>\n",
       "    </tr>\n",
       "    <tr>\n",
       "      <th>4</th>\n",
       "      <td>Achiras</td>\n",
       "      <td>370</td>\n",
       "      <td>Valid</td>\n",
       "      <td>L6</td>\n",
       "      <td>780.0</td>\n",
       "      <td>1902-01-01T00:00:00.000</td>\n",
       "      <td>-33.16667</td>\n",
       "      <td>-64.95000</td>\n",
       "    </tr>\n",
       "  </tbody>\n",
       "</table>\n",
       "</div>"
      ],
      "text/plain": [
       "       name   id nametype     recclass      mass                     year  \\\n",
       "0    Aachen    1    Valid           L5      21.0  1880-01-01T00:00:00.000   \n",
       "1    Aarhus    2    Valid           H6     720.0  1951-01-01T00:00:00.000   \n",
       "2      Abee    6    Valid          EH4  107000.0  1952-01-01T00:00:00.000   \n",
       "3  Acapulco   10    Valid  Acapulcoite    1914.0  1976-01-01T00:00:00.000   \n",
       "4   Achiras  370    Valid           L6     780.0  1902-01-01T00:00:00.000   \n",
       "\n",
       "     reclat    reclong  \n",
       "0  50.77500    6.08333  \n",
       "1  56.18333   10.23333  \n",
       "2  54.21667 -113.00000  \n",
       "3  16.88333  -99.90000  \n",
       "4 -33.16667  -64.95000  "
      ]
     },
     "execution_count": 4,
     "metadata": {},
     "output_type": "execute_result"
    }
   ],
   "source": [
    "# Load the data from the CSV file\n",
    "data = pd.read_csv(\"earth_meteorites.csv\")\n",
    "data.head()"
   ]
  },
  {
   "cell_type": "code",
   "execution_count": null,
   "metadata": {},
   "outputs": [],
   "source": []
  }
 ],
 "metadata": {
  "kernelspec": {
   "display_name": "base",
   "language": "python",
   "name": "python3"
  },
  "language_info": {
   "codemirror_mode": {
    "name": "ipython",
    "version": 3
   },
   "file_extension": ".py",
   "mimetype": "text/x-python",
   "name": "python",
   "nbconvert_exporter": "python",
   "pygments_lexer": "ipython3",
   "version": "3.10.9"
  },
  "orig_nbformat": 4
 },
 "nbformat": 4,
 "nbformat_minor": 2
}
