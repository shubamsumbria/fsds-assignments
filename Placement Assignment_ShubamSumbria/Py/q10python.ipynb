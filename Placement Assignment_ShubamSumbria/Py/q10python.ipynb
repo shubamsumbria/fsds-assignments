{
 "cells": [
  {
   "attachments": {},
   "cell_type": "markdown",
   "metadata": {},
   "source": [
    "Question 10 python:"
   ]
  },
  {
   "cell_type": "code",
   "execution_count": 2,
   "metadata": {},
   "outputs": [
    {
     "name": "stderr",
     "output_type": "stream",
     "text": [
      "[nltk_data] Downloading package punkt to\n",
      "[nltk_data]     /Users/shubamsumbria/nltk_data...\n",
      "[nltk_data]   Unzipping tokenizers/punkt.zip.\n",
      "[nltk_data] Downloading package averaged_perceptron_tagger to\n",
      "[nltk_data]     /Users/shubamsumbria/nltk_data...\n"
     ]
    },
    {
     "name": "stdout",
     "output_type": "stream",
     "text": [
      "Part-of-speech counts:\n",
      "{'verb': 2, 'noun': 1, 'pronoun': 1, 'adjective': 0}\n"
     ]
    },
    {
     "name": "stderr",
     "output_type": "stream",
     "text": [
      "[nltk_data]   Unzipping taggers/averaged_perceptron_tagger.zip.\n"
     ]
    }
   ],
   "source": [
    "import nltk\n",
    "from nltk.tokenize import word_tokenize\n",
    "from nltk.tag import pos_tag\n",
    "nltk.download('punkt')\n",
    "nltk.download('averaged_perceptron_tagger')\n",
    "\n",
    "def count_pos(text):\n",
    "    # Tokenize the text into words\n",
    "    words = word_tokenize(text)\n",
    "\n",
    "    # Perform part-of-speech tagging\n",
    "    tagged_words = pos_tag(words)\n",
    "\n",
    "    # Initialize counters for each part of speech\n",
    "    pos_counts = {\n",
    "        'verb': 0,\n",
    "        'noun': 0,\n",
    "        'pronoun': 0,\n",
    "        'adjective': 0\n",
    "    }\n",
    "\n",
    "    # Count the occurrences of each part of speech\n",
    "    for word, tag in tagged_words:\n",
    "        if tag.startswith('V'):  # Verb\n",
    "            pos_counts['verb'] += 1\n",
    "        elif tag.startswith('N'):  # Noun\n",
    "            pos_counts['noun'] += 1\n",
    "        elif tag.startswith('PR'):  # Pronoun\n",
    "            pos_counts['pronoun'] += 1\n",
    "        elif tag.startswith('JJ'):  # Adjective\n",
    "            pos_counts['adjective'] += 1\n",
    "\n",
    "    return pos_counts\n",
    "\n",
    "# Test the function with a given phrase\n",
    "phrase = \"I love eating pizza\"\n",
    "pos_counts = count_pos(phrase)\n",
    "print(\"Part-of-speech counts:\")\n",
    "print(pos_counts)"
   ]
  },
  {
   "cell_type": "code",
   "execution_count": 3,
   "metadata": {},
   "outputs": [
    {
     "name": "stdout",
     "output_type": "stream",
     "text": [
      "Part-of-speech counts:\n",
      "{'verb': 8, 'noun': 14, 'pronoun': 8, 'adjective': 16}\n"
     ]
    }
   ],
   "source": [
    "phrase = \"I have a pen, I have a apple Uh! Apple-pen! I have a pen, I have pineapple Uh! Pineapple-pen! Apple-pen, pineapple-pen Uh! Pen-pineapple-apple-pen Pen-pineapple-apple-pen Dance time! I have a pen, I have a pen Uh! Long pen! I have a apple, I have pineapple Uh! Apple-pineapple! Long pen, apple-pineapple, Uh! Pen-pineapple-apple-pen! Pen-pineapple-apple-pen!\"\n",
    "pos_counts = count_pos(phrase)\n",
    "print(\"Part-of-speech counts:\")\n",
    "print(pos_counts)"
   ]
  },
  {
   "cell_type": "code",
   "execution_count": 4,
   "metadata": {},
   "outputs": [
    {
     "name": "stdout",
     "output_type": "stream",
     "text": [
      "Part-of-speech counts:\n",
      "{'verb': 8, 'noun': 14, 'pronoun': 8, 'adjective': 16}\n"
     ]
    }
   ],
   "source": [
    "phase = \"hi my name is shubam sumbria and I am doing this placement assignment by ineuron uncder full stack data science course.\"\n",
    "pos_counts = count_pos(phrase)\n",
    "print(\"Part-of-speech counts:\")\n",
    "print(pos_counts)"
   ]
  }
 ],
 "metadata": {
  "kernelspec": {
   "display_name": "base",
   "language": "python",
   "name": "python3"
  },
  "language_info": {
   "codemirror_mode": {
    "name": "ipython",
    "version": 3
   },
   "file_extension": ".py",
   "mimetype": "text/x-python",
   "name": "python",
   "nbconvert_exporter": "python",
   "pygments_lexer": "ipython3",
   "version": "3.10.9"
  },
  "orig_nbformat": 4
 },
 "nbformat": 4,
 "nbformat_minor": 2
}
