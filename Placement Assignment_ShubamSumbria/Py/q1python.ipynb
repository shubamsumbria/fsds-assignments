{
 "cells": [
  {
   "attachments": {},
   "cell_type": "markdown",
   "metadata": {},
   "source": [
    "Question 1 python:"
   ]
  },
  {
   "cell_type": "code",
   "execution_count": 1,
   "metadata": {},
   "outputs": [],
   "source": [
    "def find_highest_frequency_word_length(string):\n",
    "    # Split the string into individual words\n",
    "    words = string.split()\n",
    "\n",
    "    # Create a dictionary to store word frequencies\n",
    "    word_freq = {}\n",
    "\n",
    "    # Count the frequency of each word\n",
    "    for word in words:\n",
    "        word_freq[word] = word_freq.get(word, 0) + 1\n",
    "\n",
    "    # Find the highest frequency\n",
    "    max_freq = max(word_freq.values())\n",
    "\n",
    "    # Find the length of the highest-frequency word\n",
    "    max_freq_word = max(word_freq, key=word_freq.get)\n",
    "    max_freq_word_length = len(max_freq_word)\n",
    "\n",
    "    return max_freq_word_length"
   ]
  },
  {
   "attachments": {},
   "cell_type": "markdown",
   "metadata": {},
   "source": [
    "Case 1:"
   ]
  },
  {
   "cell_type": "code",
   "execution_count": 2,
   "metadata": {},
   "outputs": [
    {
     "name": "stdout",
     "output_type": "stream",
     "text": [
      "Length of the highest-frequency word: 2\n"
     ]
    }
   ],
   "source": [
    "input_string = \"hi my name is shubam sumbria and I am doing this placement assignment by ineuron uncder full stack data science course.\"\n",
    "result = find_highest_frequency_word_length(input_string)\n",
    "print(\"Length of the highest-frequency word:\", result)"
   ]
  },
  {
   "attachments": {},
   "cell_type": "markdown",
   "metadata": {},
   "source": [
    "Case 2:"
   ]
  },
  {
   "cell_type": "code",
   "execution_count": 3,
   "metadata": {},
   "outputs": [
    {
     "name": "stdout",
     "output_type": "stream",
     "text": [
      "Length of the highest-frequency word: 1\n"
     ]
    }
   ],
   "source": [
    "input_string = \"I have a pen, I have a apple Uh! Apple-pen! I have a pen, I have pineapple Uh! Pineapple-pen! Apple-pen, pineapple-pen Uh! Pen-pineapple-apple-pen Pen-pineapple-apple-pen Dance time! I have a pen, I have a pen Uh! Long pen! I have a apple, I have pineapple Uh! Apple-pineapple! Long pen, apple-pineapple, Uh! Pen-pineapple-apple-pen! Pen-pineapple-apple-pen!\"\n",
    "result = find_highest_frequency_word_length(input_string)\n",
    "print(\"Length of the highest-frequency word:\", result)"
   ]
  }
 ],
 "metadata": {
  "kernelspec": {
   "display_name": "base",
   "language": "python",
   "name": "python3"
  },
  "language_info": {
   "codemirror_mode": {
    "name": "ipython",
    "version": 3
   },
   "file_extension": ".py",
   "mimetype": "text/x-python",
   "name": "python",
   "nbconvert_exporter": "python",
   "pygments_lexer": "ipython3",
   "version": "3.10.9"
  },
  "orig_nbformat": 4
 },
 "nbformat": 4,
 "nbformat_minor": 2
}
