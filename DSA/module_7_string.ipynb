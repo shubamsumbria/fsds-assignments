{
 "cells": [
  {
   "attachments": {},
   "cell_type": "markdown",
   "metadata": {},
   "source": [
    "Question 1"
   ]
  },
  {
   "cell_type": "code",
   "execution_count": 6,
   "metadata": {},
   "outputs": [],
   "source": [
    "def minimumDeleteSum(s1, s2):\n",
    "    m, n = len(s1), len(s2)\n",
    "    dp = [[0] * (n+1) for _ in range(m+1)]\n",
    "\n",
    "    # Calculate LCS using dynamic programming\n",
    "    for i in range(1, m+1):\n",
    "        dp[i][0] = dp[i-1][0] + ord(s1[i-1])\n",
    "\n",
    "    for j in range(1, n+1):\n",
    "        dp[0][j] = dp[0][j-1] + ord(s2[j-1])\n",
    "\n",
    "    for i in range(1, m+1):\n",
    "        for j in range(1, n+1):\n",
    "            if s1[i-1] == s2[j-1]:\n",
    "                dp[i][j] = dp[i-1][j-1]\n",
    "            else:\n",
    "                dp[i][j] = min(dp[i-1][j] + ord(s1[i-1]), dp[i][j-1] + ord(s2[j-1]))\n",
    "\n",
    "    return dp[m][n]"
   ]
  },
  {
   "cell_type": "code",
   "execution_count": 7,
   "metadata": {},
   "outputs": [
    {
     "name": "stdout",
     "output_type": "stream",
     "text": [
      "231\n"
     ]
    }
   ],
   "source": [
    "s1 = \"sea\"\n",
    "s2 = \"eat\"\n",
    "print(minimumDeleteSum(s1, s2))"
   ]
  },
  {
   "cell_type": "code",
   "execution_count": null,
   "metadata": {},
   "outputs": [],
   "source": [
    "'''\n",
    "Time Complexity - O(m*n)\n",
    "Space Complexity - O(m*n)\n",
    "'''"
   ]
  },
  {
   "attachments": {},
   "cell_type": "markdown",
   "metadata": {},
   "source": [
    "Question 2"
   ]
  },
  {
   "cell_type": "code",
   "execution_count": 8,
   "metadata": {},
   "outputs": [],
   "source": [
    "def isStrobogrammatic(num):\n",
    "    valid_pairs = {'0': '0', '1': '1', '6': '9', '8': '8', '9': '6'}\n",
    "    left, right = 0, len(num) - 1\n",
    "\n",
    "    while left <= right:\n",
    "        if num[left] not in valid_pairs or num[right] not in valid_pairs:\n",
    "            return False\n",
    "\n",
    "        if valid_pairs[num[left]] != num[right]:\n",
    "            return False\n",
    "\n",
    "        left += 1\n",
    "        right -= 1\n",
    "\n",
    "    return True"
   ]
  },
  {
   "cell_type": "code",
   "execution_count": 9,
   "metadata": {},
   "outputs": [
    {
     "name": "stdout",
     "output_type": "stream",
     "text": [
      "True\n"
     ]
    }
   ],
   "source": [
    "num = \"69\"\n",
    "print(isStrobogrammatic(num))"
   ]
  },
  {
   "cell_type": "code",
   "execution_count": null,
   "metadata": {},
   "outputs": [],
   "source": [
    "'''\n",
    "Time Complexity - O(n)\n",
    "Space Complexity - O(1)\n",
    "'''"
   ]
  },
  {
   "attachments": {},
   "cell_type": "markdown",
   "metadata": {},
   "source": [
    "Question 3"
   ]
  },
  {
   "cell_type": "code",
   "execution_count": 18,
   "metadata": {},
   "outputs": [],
   "source": [
    "def addStrings(num1, num2):\n",
    "    result = []\n",
    "    carry = 0\n",
    "    i, j = len(num1) - 1, len(num2) - 1\n",
    "\n",
    "    while i >= 0 or j >= 0:\n",
    "        digit1 = int(num1[i]) if i >= 0 else 0\n",
    "        digit2 = int(num2[j]) if j >= 0 else 0\n",
    "\n",
    "        # Add digits and carry\n",
    "        current_sum = digit1 + digit2 + carry\n",
    "        carry = current_sum // 10\n",
    "        digit_sum = current_sum % 10\n",
    "\n",
    "        # Add the digit to the result\n",
    "        result.append(str(digit_sum))\n",
    "\n",
    "        i -= 1\n",
    "        j -= 1\n",
    "\n",
    "    # Add the remaining carry if any\n",
    "    if carry > 0:\n",
    "        result.append(str(carry))\n",
    "\n",
    "    # Reverse the result and convert to string\n",
    "    return ''.join(result[::-1])\n"
   ]
  },
  {
   "cell_type": "code",
   "execution_count": 19,
   "metadata": {},
   "outputs": [
    {
     "name": "stdout",
     "output_type": "stream",
     "text": [
      "134\n"
     ]
    }
   ],
   "source": [
    "num1 = \"11\"\n",
    "num2 = \"123\"\n",
    "print(addStrings(num1, num2))"
   ]
  },
  {
   "cell_type": "code",
   "execution_count": null,
   "metadata": {},
   "outputs": [],
   "source": [
    "'''\n",
    "Time Complexity - O(n)\n",
    "Space Complexity - O(n)\n",
    "'''"
   ]
  },
  {
   "attachments": {},
   "cell_type": "markdown",
   "metadata": {},
   "source": [
    "Question 4"
   ]
  },
  {
   "cell_type": "code",
   "execution_count": null,
   "metadata": {},
   "outputs": [],
   "source": [
    "def reverseWords(s):\n",
    "    words = s.split()\n",
    "    reversed_words = [word[::-1] for word in words]\n",
    "    return ' '.join(reversed_words)"
   ]
  },
  {
   "cell_type": "code",
   "execution_count": null,
   "metadata": {},
   "outputs": [],
   "source": [
    "s = \"Let's take LeetCode contest\"\n",
    "print(reverseWords(s))"
   ]
  },
  {
   "cell_type": "code",
   "execution_count": null,
   "metadata": {},
   "outputs": [],
   "source": [
    "'''\n",
    "Time Complexity - O(n)\n",
    "Space Complexity - O(n)\n",
    "'''"
   ]
  },
  {
   "attachments": {},
   "cell_type": "markdown",
   "metadata": {},
   "source": [
    "Question 5"
   ]
  },
  {
   "cell_type": "code",
   "execution_count": 16,
   "metadata": {},
   "outputs": [],
   "source": [
    "def reverseStr(s, k):\n",
    "    # Convert the string to a list to make it mutable\n",
    "    s = list(s)\n",
    "    n = len(s)\n",
    "\n",
    "    for i in range(0, n, 2 * k):\n",
    "        # Reverse the first k characters if there are at least k characters remaining\n",
    "        if i + k <= n:\n",
    "            s[i:i+k] = s[i:i+k][::-1]\n",
    "        # If there are fewer than k characters remaining, reverse all of them\n",
    "        else:\n",
    "            s[i:] = s[i:][::-1]\n",
    "\n",
    "    # Convert the list back to a string\n",
    "    return ''.join(s)"
   ]
  },
  {
   "cell_type": "code",
   "execution_count": 17,
   "metadata": {},
   "outputs": [
    {
     "name": "stdout",
     "output_type": "stream",
     "text": [
      "s'teL ekat edoCteeL tsetnoc\n"
     ]
    }
   ],
   "source": [
    "s = \"abcdefg\"\n",
    "k = 2\n",
    "print(reverseStr(s, k))"
   ]
  },
  {
   "cell_type": "code",
   "execution_count": null,
   "metadata": {},
   "outputs": [],
   "source": [
    "'''\n",
    "Time Complexity - O(n)\n",
    "Space Complexity - O(n)\n",
    "'''"
   ]
  },
  {
   "attachments": {},
   "cell_type": "markdown",
   "metadata": {},
   "source": [
    "Question 6"
   ]
  },
  {
   "cell_type": "code",
   "execution_count": 22,
   "metadata": {},
   "outputs": [],
   "source": [
    "def backspaceCompare(s, t):\n",
    "    def buildString(string):\n",
    "        result = []\n",
    "        for char in string:\n",
    "            if char != '#':\n",
    "                result.append(char)\n",
    "            elif result:\n",
    "                result.pop()\n",
    "        return ''.join(result)\n",
    "\n",
    "    return buildString(s) == buildString(t)\n"
   ]
  },
  {
   "cell_type": "code",
   "execution_count": 23,
   "metadata": {},
   "outputs": [
    {
     "name": "stdout",
     "output_type": "stream",
     "text": [
      "True\n"
     ]
    }
   ],
   "source": [
    "s = \"ab#c\"\n",
    "t = \"ad#c\"\n",
    "print(backspaceCompare(s, t))"
   ]
  },
  {
   "cell_type": "code",
   "execution_count": null,
   "metadata": {},
   "outputs": [],
   "source": [
    "'''\n",
    "Time Complexity - O(m+n)\n",
    "Space Complexity - O(m+n)\n",
    "'''"
   ]
  },
  {
   "attachments": {},
   "cell_type": "markdown",
   "metadata": {},
   "source": [
    "Question 7"
   ]
  },
  {
   "cell_type": "code",
   "execution_count": 11,
   "metadata": {},
   "outputs": [],
   "source": [
    "def rotateString(s, goal):\n",
    "    # Check if goal is a substring of s + s\n",
    "    if len(s) != len(goal):\n",
    "        return False\n",
    "\n",
    "    concatenated = s + s\n",
    "    if goal in concatenated:\n",
    "        return True\n",
    "\n",
    "    return False"
   ]
  },
  {
   "cell_type": "code",
   "execution_count": 12,
   "metadata": {},
   "outputs": [
    {
     "name": "stdout",
     "output_type": "stream",
     "text": [
      "True\n"
     ]
    }
   ],
   "source": [
    "s = \"abcde\"\n",
    "goal = \"cdeab\"\n",
    "print(rotateString(s, goal))"
   ]
  },
  {
   "cell_type": "code",
   "execution_count": null,
   "metadata": {},
   "outputs": [],
   "source": [
    "'''\n",
    "Time Complexity - O(n**2)\n",
    "Space Complexity - O(n)\n",
    "'''"
   ]
  },
  {
   "attachments": {},
   "cell_type": "markdown",
   "metadata": {},
   "source": [
    "Question 8"
   ]
  },
  {
   "cell_type": "code",
   "execution_count": 24,
   "metadata": {},
   "outputs": [],
   "source": [
    "def checkStraightLine(coordinates):\n",
    "    # Calculate the slope between the first two points\n",
    "    x1, y1 = coordinates[0]\n",
    "    x2, y2 = coordinates[1]\n",
    "    slope = (y2 - y1) / (x2 - x1) if (x2 - x1) != 0 else float('inf')\n",
    "\n",
    "    # Check the slope between each pair of consecutive points\n",
    "    for i in range(2, len(coordinates)):\n",
    "        x1, y1 = coordinates[i-1]\n",
    "        x2, y2 = coordinates[i]\n",
    "        current_slope = (y2 - y1) / (x2 - x1) if (x2 - x1) != 0 else float('inf')\n",
    "\n",
    "        # If the current slope is not equal to the initial slope, return False\n",
    "        if current_slope != slope:\n",
    "            return False\n",
    "\n",
    "    return True"
   ]
  },
  {
   "cell_type": "code",
   "execution_count": 25,
   "metadata": {},
   "outputs": [
    {
     "name": "stdout",
     "output_type": "stream",
     "text": [
      "True\n"
     ]
    }
   ],
   "source": [
    "coordinates = [[1,2],[2,3],[3,4],[4,5],[5,6],[6,7]]\n",
    "print(checkStraightLine(coordinates))"
   ]
  },
  {
   "cell_type": "code",
   "execution_count": null,
   "metadata": {},
   "outputs": [],
   "source": [
    "'''\n",
    "Time Complexity - O(n)\n",
    "Space Complexity - O(1)\n",
    "'''"
   ]
  }
 ],
 "metadata": {
  "kernelspec": {
   "display_name": "base",
   "language": "python",
   "name": "python3"
  },
  "language_info": {
   "codemirror_mode": {
    "name": "ipython",
    "version": 3
   },
   "file_extension": ".py",
   "mimetype": "text/x-python",
   "name": "python",
   "nbconvert_exporter": "python",
   "pygments_lexer": "ipython3",
   "version": "3.10.9"
  },
  "orig_nbformat": 4
 },
 "nbformat": 4,
 "nbformat_minor": 2
}
