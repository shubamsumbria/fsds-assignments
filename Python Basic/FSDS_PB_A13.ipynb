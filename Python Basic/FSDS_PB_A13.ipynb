{
  "nbformat": 4,
  "nbformat_minor": 0,
  "metadata": {
    "colab": {
      "provenance": []
    },
    "kernelspec": {
      "name": "python3",
      "display_name": "Python 3"
    },
    "language_info": {
      "name": "python"
    }
  },
  "cells": [
    {
      "cell_type": "markdown",
      "source": [
        "1. What advantages do Excel spreadsheets have over CSV spreadsheets?"
      ],
      "metadata": {
        "id": "TTFi40jAJ9Q1"
      }
    },
    {
      "cell_type": "markdown",
      "source": [
        "Ans. The Advantages of Excel over CSV are:\n",
        "\n",
        "Excel (XLS and XLSX) file formats are better for storing and analysing complex data.\n",
        "An Excel not only stores data but can also do operations on the data using macros, formulas etc\n",
        "CSV files are plain-text files, Does not contain formatting, formulas, macros, etc. It is also known as flat files"
      ],
      "metadata": {
        "id": "7fwvsqegJ_Ct"
      }
    },
    {
      "cell_type": "markdown",
      "source": [
        "2.What do you pass to csv.reader() and csv.writer() to create reader and writer objects?"
      ],
      "metadata": {
        "id": "LQls4lb5KB9S"
      }
    },
    {
      "cell_type": "code",
      "source": [
        "import csv\n",
        "path = 'path of file'\n",
        "with open(path,'r') as file:\n",
        "    csv_file = csv.reader(file,delimiter=',')\n",
        "    for ele in csv_file:\n",
        "        print(ele)"
      ],
      "metadata": {
        "id": "lXg-W-XpKDsV"
      },
      "execution_count": null,
      "outputs": []
    },
    {
      "cell_type": "markdown",
      "source": [
        "3. What modes do File objects for reader and writer objects need to be opened in?"
      ],
      "metadata": {
        "id": "uL8CiRD9KH0L"
      }
    },
    {
      "cell_type": "markdown",
      "source": [
        "Ans. For `csv.reader(iterable_file_object)`, the file objects needed to be opened in `read` mode `mode='r'` Whereas for `csv.writer(iterable_file_object)` the file objects needed to be opened in `write` mode `mode='w'`"
      ],
      "metadata": {
        "id": "rJ8wrN1UKJSd"
      }
    },
    {
      "cell_type": "markdown",
      "source": [
        "4. What method takes a list argument and writes it to a CSV file?"
      ],
      "metadata": {
        "id": "pxXEAYffKTfE"
      }
    },
    {
      "cell_type": "markdown",
      "source": [
        "Ans. csv.writer class provides two methods for writing to CSV. They are `writerow()` and `writerows()`. `writerow()` method writes a single row at a time. Whereas `writerows()` method is used to write multiple rows at a time."
      ],
      "metadata": {
        "id": "D7Cjp702KUfv"
      }
    },
    {
      "cell_type": "code",
      "source": [
        "# Example Program\n",
        "import csv      \n",
        "fields = ['Name', 'Branch', 'Year', 'CGPA'] #column names \n",
        "rows = [ \n",
        "            ['Nikhil', 'COE', '2', '9.0'],  # data rows of csv file \n",
        "            ['Sanchit', 'COE', '2', '9.1'], \n",
        "            ['Ravi', 'IT', '2', '9.3']\n",
        "       ] \n",
        "with open(\"university_records.csv\", 'w') as csvfile: \n",
        "    csvwriter = csv.writer(csvfile) # creating a csv writer object \n",
        "    csvwriter.writerow(fields) # writing the fields \n",
        "    csvwriter.writerows(rows) # writing the data rows "
      ],
      "metadata": {
        "id": "_fCBE19VKaZ1"
      },
      "execution_count": 6,
      "outputs": []
    },
    {
      "cell_type": "markdown",
      "source": [
        "5. What do the keyword arguments delimiter and line terminator do?"
      ],
      "metadata": {
        "id": "MNDHHndkKd_y"
      }
    },
    {
      "cell_type": "markdown",
      "source": [
        "Ans. Lets take the example of a csv file:\n",
        "\n",
        "`First Name, Last Name, Age`\n",
        "\n",
        "`Mano, Vishnu, 24`\n",
        "\n",
        "`Vishnu, Vardhan, 21`\n",
        "\n",
        "Here `','` is `Delimiter`. We can use any Character as per our needs if required. Similarly Line Terminator comes at end of line by default it is newline and can be changed accourding to Requirement."
      ],
      "metadata": {
        "id": "eB8lAnlYKmzP"
      }
    },
    {
      "cell_type": "markdown",
      "source": [
        "\n",
        "\n",
        "6. What function takes a string of JSON data and returns a Python data structure?"
      ],
      "metadata": {
        "id": "703nr-8fKfn2"
      }
    },
    {
      "cell_type": "markdown",
      "source": [
        "Ans. `loads()` method takes a string of JSON data and returns a Python data structure"
      ],
      "metadata": {
        "id": "7wDHamj4Kjk9"
      }
    },
    {
      "cell_type": "code",
      "source": [
        "# Example of json.loads() method\n",
        "import json\n",
        "my_details_json ='''{\n",
        "    \"Name\": \"Shubam Sumbria\",\n",
        "    \"Qualification\": \"Bachelor of Technology\",\n",
        "    \"Stream\": \"EE\"\n",
        "}'''\n",
        "print(my_details_json)\n",
        "print(f'Type of my_details_json is {type(my_details_json)}')\n",
        "my_details = json.loads(my_details_json)\n",
        "print(my_details)\n",
        "print(f'Type of my_details is {type(my_details)}')"
      ],
      "metadata": {
        "colab": {
          "base_uri": "https://localhost:8080/"
        },
        "id": "SYtgpKb5K2Sn",
        "outputId": "f8526e66-fb59-4b35-8f5e-c29e700c3674"
      },
      "execution_count": 9,
      "outputs": [
        {
          "output_type": "stream",
          "name": "stdout",
          "text": [
            "{\n",
            "    \"Name\": \"Shubam Sumbria\",\n",
            "    \"Qualification\": \"Bachelor of Technology\",\n",
            "    \"Stream\": \"EE\"\n",
            "}\n",
            "Type of my_details_json is <class 'str'>\n",
            "{'Name': 'Shubam Sumbria', 'Qualification': 'Bachelor of Technology', 'Stream': 'EE'}\n",
            "Type of my_details is <class 'dict'>\n"
          ]
        }
      ]
    },
    {
      "cell_type": "markdown",
      "source": [
        "7. What function takes a Python data structure and returns a string of JSON data?"
      ],
      "metadata": {
        "id": "sbWDqVEJK4mQ"
      }
    },
    {
      "cell_type": "markdown",
      "source": [
        "Ans. `dumps()` method takes a python data structure and returns a string of JSON data"
      ],
      "metadata": {
        "id": "JIDPaADQK89Y"
      }
    },
    {
      "cell_type": "code",
      "source": [
        "# Example of json.dumps() method\n",
        "import json\n",
        "my_details = {\n",
        "    \"Name\": \"Shubam Sumbria\",\n",
        "    \"Qualification\": \"Bachelor of Technology\",\n",
        "    \"Stream\": \"EE\"\n",
        "}\n",
        "print(my_details)\n",
        "print(f'Type of my_details is {type(my_details)}')\n",
        "my_details_json = json.dumps(my_details, indent=4, sort_keys=True)\n",
        "print(my_details_json)\n",
        "print(f'Type of my_details_json is {type(my_details_json)}')"
      ],
      "metadata": {
        "colab": {
          "base_uri": "https://localhost:8080/"
        },
        "id": "vOIr1635LAwt",
        "outputId": "cbcdbb9e-41d5-4721-d1ef-2fbe2394a761"
      },
      "execution_count": 10,
      "outputs": [
        {
          "output_type": "stream",
          "name": "stdout",
          "text": [
            "{'Name': 'Shubam Sumbria', 'Qualification': 'Bachelor of Technology', 'Stream': 'EE'}\n",
            "Type of my_details is <class 'dict'>\n",
            "{\n",
            "    \"Name\": \"Shubam Sumbria\",\n",
            "    \"Qualification\": \"Bachelor of Technology\",\n",
            "    \"Stream\": \"EE\"\n",
            "}\n",
            "Type of my_details_json is <class 'str'>\n"
          ]
        }
      ]
    },
    {
      "cell_type": "code",
      "source": [],
      "metadata": {
        "id": "8ko_rHBXMVSl"
      },
      "execution_count": 8,
      "outputs": []
    }
  ]
}