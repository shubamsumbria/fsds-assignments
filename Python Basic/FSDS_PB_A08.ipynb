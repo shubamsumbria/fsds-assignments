{
  "nbformat": 4,
  "nbformat_minor": 0,
  "metadata": {
    "colab": {
      "provenance": []
    },
    "kernelspec": {
      "name": "python3",
      "display_name": "Python 3"
    },
    "language_info": {
      "name": "python"
    }
  },
  "cells": [
    {
      "cell_type": "markdown",
      "source": [
        "1. Is the Python Standard Library included with PyInputPlus?\n",
        "2. Why is PyInputPlus commonly imported with import pyinputplus as pypi?\n",
        "3. How do you distinguish between inputInt() and inputFloat()?\n",
        "4. Using PyInputPlus, how do you ensure that the user enters a whole number between 0 and 99?\n",
        "5. What is transferred to the keyword arguments allowRegexes and blockRegexes?\n",
        "6. If a blank input is entered three times, what does inputStr(limit=3) do?\n",
        "7. If blank input is entered three times, what does inputStr(limit=3, default=&#39;hello&#39;) do?"
      ],
      "metadata": {
        "id": "UcAzbFrp7fB0"
      }
    },
    {
      "cell_type": "markdown",
      "source": [
        "Ans1. No"
      ],
      "metadata": {
        "id": "9tP8j8dEAb7M"
      }
    },
    {
      "cell_type": "markdown",
      "source": [
        "Ans2. So that we can enter a shorter name when calling the module's functions."
      ],
      "metadata": {
        "id": "dsVAMq04Aedd"
      }
    },
    {
      "cell_type": "markdown",
      "source": [
        "Ans3. inputInt() is used to take integer inputs while inputFloat() is used to take float values."
      ],
      "metadata": {
        "id": "JjvQWAr6A1nY"
      }
    },
    {
      "cell_type": "markdown",
      "source": [
        "Ans4. pyip.inputint(min=0, max=99)"
      ],
      "metadata": {
        "id": "B4HxQ_r5BeUu"
      }
    },
    {
      "cell_type": "markdown",
      "source": [
        "Ans5. Keyword arguments take a list of regular expression strings to determine what the PyInputPlus function will accept or reject as valid input."
      ],
      "metadata": {
        "id": "zJg9zpwCB2MW"
      }
    },
    {
      "cell_type": "markdown",
      "source": [
        "Ans6. The function will raise RetryLimitException."
      ],
      "metadata": {
        "id": "-KZ5QCnsCG7z"
      }
    },
    {
      "cell_type": "markdown",
      "source": [
        "Ans7. It returns 'hello' to the variable."
      ],
      "metadata": {
        "id": "741hikUPCJfX"
      }
    }
  ]
}