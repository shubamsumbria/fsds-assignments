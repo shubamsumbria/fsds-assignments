{
  "nbformat": 4,
  "nbformat_minor": 0,
  "metadata": {
    "colab": {
      "provenance": []
    },
    "kernelspec": {
      "name": "python3",
      "display_name": "Python 3"
    },
    "language_info": {
      "name": "python"
    }
  },
  "cells": [
    {
      "cell_type": "markdown",
      "source": [
        "\n",
        "1. What is the name of the feature responsible for generating Regex objects?\n",
        "\n",
        "Ans. re.compile() is the feature responsible for generation of Regex objects.\n",
        "\n",
        "2. Why do raw strings often appear in Regex objects?\n",
        "\n",
        "Ans. Regular expressions use the backslash character ('\\') to indicate special forms (Metacharacters) or to allow special characters (speical sequences) to be used without invoking their special meaning. This collides with Python’s usage of the same character for the same purpose in string literals. Hence, Raw strings are used (e.g. r\"\\n\") so that backslashes do not have to be escaped.\n",
        "\n",
        "3. What is the return value of the search() method?\n",
        "\n",
        "Ans. The return value of re.search(pattern,string) method is a match object if the pattern is observed in the string else it returns a None\n",
        "\n",
        "4. From a Match item, how do you get the actual strings that match the pattern?\n",
        "\n",
        "Ans. For Matched items group() methods returns actual strings that match the pattern\n",
        "\n",
        "5. In the regex which created from the r&#39;(\\d\\d\\d)-(\\d\\d\\d-\\d\\d\\d\\d)&#39;, what does group zero cover?\n",
        "Group 2? Group 1?\n",
        "\n",
        "Ans. In the Regex r'(\\d\\d\\d)-(\\d\\d\\d-\\d\\d\\d\\d)' the zero group covers the entire pattern match where as the first group cover (\\d\\d\\d) and the second group cover (\\d\\d\\d-\\d\\d\\d\\d)\n",
        "\n",
        "6. In standard expression syntax, parentheses and intervals have distinct meanings. How can you tell\n",
        "a regex that you want it to fit real parentheses and periods?\n",
        "\n",
        "Ans. The \\. \\( and \\) escape characters in the raw string passed to re.compile() will match actual parenthesis characters.\n",
        "\n",
        "7. The findall() method returns a string list or a list of string tuples. What causes it to return one of\n",
        "the two options?\n",
        "\n",
        "Ans. If the regex pattern has no groups, a list of strings matched is returned. if the regex pattern has groups, a list of tuple of strings is returned.\n",
        "\n",
        "8. In standard expressions, what does the | character mean?\n",
        "\n",
        "Ans. In Standard Expressions | means OR operator.\n",
        "\n",
        "9. In regular expressions, what does the character stand for?\n",
        "\n",
        "Ans. In regular Expressions, ? characters represents zero or one match of the preceeding group.\n",
        "\n",
        "10.In regular expressions, what is the difference between the + and * \n",
        "characters?\n",
        "\n",
        "Ans. In Regular Expressions, * Represents Zero ore more occurances of the preceeding group, whereas + represents one or more occurances of the preceeding group."
      ],
      "metadata": {
        "id": "e3yDeyEj7Tsg"
      }
    }
  ]
}