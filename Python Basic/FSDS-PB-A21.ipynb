{
 "cells": [
  {
   "attachments": {},
   "cell_type": "markdown",
   "id": "4fe8b19e",
   "metadata": {},
   "source": [
    "1. Add the current date to the text file today.txt as a string."
   ]
  },
  {
   "cell_type": "code",
   "execution_count": 1,
   "id": "4c5ad5ac",
   "metadata": {},
   "outputs": [
    {
     "name": "stdout",
     "output_type": "stream",
     "text": [
      "22-09-2021\n"
     ]
    }
   ],
   "source": [
    "import datetime\n",
    "# Code to Add current date to the today.txt file\n",
    "file = open('today.txt','w')\n",
    "file.write(datetime.datetime.now().strftime(\"%d-%m-%Y\"))\n",
    "file.close()\n",
    "# Code to Read current date from today.txt file\n",
    "file = open('today.txt','r')\n",
    "print(file.read())\n",
    "file.close()"
   ]
  },
  {
   "attachments": {},
   "cell_type": "markdown",
   "id": "6cf23762",
   "metadata": {},
   "source": [
    "2. Read the text file today.txt into the string today_string"
   ]
  },
  {
   "cell_type": "code",
   "execution_count": 2,
   "id": "107143ea",
   "metadata": {},
   "outputs": [
    {
     "name": "stdout",
     "output_type": "stream",
     "text": [
      "22-09-2021\n"
     ]
    }
   ],
   "source": [
    "file = open('today.txt','r')\n",
    "today_string = file.read()\n",
    "print(today_string)"
   ]
  },
  {
   "attachments": {},
   "cell_type": "markdown",
   "id": "165addb6",
   "metadata": {},
   "source": [
    "3. Parse the date from today_string."
   ]
  },
  {
   "cell_type": "code",
   "execution_count": 3,
   "id": "c622da5b",
   "metadata": {},
   "outputs": [
    {
     "name": "stdout",
     "output_type": "stream",
     "text": [
      "2021-09-22 00:00:00\n"
     ]
    }
   ],
   "source": [
    "from datetime import datetime\n",
    "parsed_data = datetime.strptime(today_string, '%d-%m-%Y')\n",
    "print(parsed_data)"
   ]
  },
  {
   "attachments": {},
   "cell_type": "markdown",
   "id": "664d3278",
   "metadata": {},
   "source": [
    "4. List the files in your current directory"
   ]
  },
  {
   "cell_type": "code",
   "execution_count": null,
   "id": "cbacd0e4",
   "metadata": {},
   "outputs": [],
   "source": [
    "import os\n",
    "for folders, subfolders, files in os.walk(os.getcwd()):\n",
    "    for file in files:\n",
    "        print(file)"
   ]
  },
  {
   "attachments": {},
   "cell_type": "markdown",
   "id": "291a203b",
   "metadata": {},
   "source": [
    "5. Create a list of all of the files in your parent directory (minimum five files should be available)."
   ]
  },
  {
   "cell_type": "code",
   "execution_count": null,
   "id": "efe9618b",
   "metadata": {},
   "outputs": [],
   "source": [
    "import os \n",
    "os.listdir()"
   ]
  },
  {
   "attachments": {},
   "cell_type": "markdown",
   "id": "203dd9fe",
   "metadata": {},
   "source": [
    "6. Use multiprocessing to create three separate processes. Make each one wait a random number of seconds between one and five, print the current time, and then exit."
   ]
  },
  {
   "cell_type": "code",
   "execution_count": 6,
   "id": "bcb2799b",
   "metadata": {},
   "outputs": [],
   "source": [
    "import multiprocessing\n",
    "import time \n",
    "import random\n",
    "import datetime\n",
    "\n",
    "def procOne():\n",
    "    print(f'Proc_one_Starttime -> {datetime.datetime.now()}')\n",
    "    time.sleep(random.randint(1,5))\n",
    "    print(f'Proc_one_Endtime -> {datetime.datetime.now()}')\n",
    "    \n",
    "def procTwo():\n",
    "    print(f'Proc_two_Starttime -> {datetime.datetime.now()}')\n",
    "    time.sleep(random.randint(1,5))\n",
    "    print(f'Proc_two_Endtime -> {datetime.datetime.now()}')\n",
    "\n",
    "def procThree():\n",
    "    print(f'Proc_two_Starttime -> {datetime.datetime.now()}')\n",
    "    time.sleep(random.randint(1,5))\n",
    "    print(f'Proc_two_Endtime -> {datetime.datetime.now()}')\n",
    "    \n",
    "if __name__ == \"__main__\":    \n",
    "    p1 = multiprocessing.Process(target=procOne)\n",
    "    p2 = multiprocessing.Process(target=procTwo)\n",
    "    p3 = multiprocessing.Process(target=procThree)\n",
    "\n",
    "    p1.start()\n",
    "    p2.start()\n",
    "    p3.start()\n",
    "\n",
    "    p1.join()\n",
    "    p2.join()\n",
    "    p3.join()"
   ]
  },
  {
   "cell_type": "markdown",
   "id": "710ba830-38ca-4814-a28d-a266099ff07f",
   "metadata": {},
   "source": [
    "Due to some unknown reason. the above did not print any results in the jupyter cell. so i copied the code to a python file. executed it and pasted the ouput here  \n",
    "`(base) C:\\Users\\vishnu.adepu\\Desktop>python es_poc.py`  \n",
    "`Proc_one_Starttime -> 2021-09-22 18:41:59.354061`  \n",
    "`Proc_two_Starttime -> 2021-09-22 18:41:59.363712`  \n",
    "`Proc_two_Starttime -> 2021-09-22 18:41:59.367238`  \n",
    "`Proc_two_Endtime -> 2021-09-22 18:42:04.369860`  \n",
    "`Proc_two_Endtime -> 2021-09-22 18:42:04.369860`  \n",
    "`Proc_one_Endtime -> 2021-09-22 18:42:04.369860`  "
   ]
  },
  {
   "attachments": {},
   "cell_type": "markdown",
   "id": "71d07e78",
   "metadata": {},
   "source": [
    "7. Create a date object of your day of birth."
   ]
  },
  {
   "cell_type": "code",
   "execution_count": 7,
   "id": "b3e67c1c",
   "metadata": {},
   "outputs": [
    {
     "name": "stdout",
     "output_type": "stream",
     "text": [
      "1997-04-22 00:00:00 <class 'datetime.datetime'>\n"
     ]
    }
   ],
   "source": [
    "from datetime import datetime\n",
    "my_dob = datetime.strptime('22/04/1997','%d/%m/%Y')\n",
    "print(my_dob, type(my_dob))"
   ]
  },
  {
   "attachments": {},
   "cell_type": "markdown",
   "id": "e5775db9",
   "metadata": {},
   "source": [
    "8. What day of the week was your day of birth?"
   ]
  },
  {
   "cell_type": "code",
   "execution_count": 8,
   "id": "65b6ae43",
   "metadata": {},
   "outputs": [
    {
     "data": {
      "text/plain": [
       "'Tuesday'"
      ]
     },
     "execution_count": 8,
     "metadata": {},
     "output_type": "execute_result"
    }
   ],
   "source": [
    "from datetime import datetime\n",
    "my_dob = datetime(1997,4,22)\n",
    "my_dob.strftime(\"%A\")"
   ]
  },
  {
   "attachments": {},
   "cell_type": "markdown",
   "id": "abe779de",
   "metadata": {},
   "source": [
    "9. When will you be (or when were you) 10,000 days old?"
   ]
  },
  {
   "cell_type": "code",
   "execution_count": 9,
   "id": "db7e28a0",
   "metadata": {},
   "outputs": [
    {
     "data": {
      "text/plain": [
       "datetime.datetime(1969, 12, 5, 0, 0)"
      ]
     },
     "execution_count": 9,
     "metadata": {},
     "output_type": "execute_result"
    }
   ],
   "source": [
    "from datetime import datetime, timedelta\n",
    "my_dob = datetime.strptime(\"22/04/1997\",'%d/%m/%Y')\n",
    "future_date = my_dob-timedelta(10000)\n",
    "future_date"
   ]
  }
 ],
 "metadata": {
  "kernelspec": {
   "display_name": "Python 3",
   "language": "python",
   "name": "python3"
  },
  "language_info": {
   "codemirror_mode": {
    "name": "ipython",
    "version": 3
   },
   "file_extension": ".py",
   "mimetype": "text/x-python",
   "name": "python",
   "nbconvert_exporter": "python",
   "pygments_lexer": "ipython3",
   "version": "3.11.1 (tags/v3.11.1:a7a450f, Dec  6 2022, 19:58:39) [MSC v.1934 64 bit (AMD64)]"
  },
  "vscode": {
   "interpreter": {
    "hash": "5375c6fca34c5f00efc2a1fb12328b4af153b74c7751f4a701371fb63dcb16d8"
   }
  }
 },
 "nbformat": 4,
 "nbformat_minor": 5
}
