{
  "nbformat": 4,
  "nbformat_minor": 0,
  "metadata": {
    "colab": {
      "provenance": []
    },
    "kernelspec": {
      "name": "python3",
      "display_name": "Python 3"
    },
    "language_info": {
      "name": "python"
    }
  },
  "cells": [
    {
      "cell_type": "markdown",
      "source": [
        "1. In what modes should the PdfFileReader() and PdfFileWriter() File objects will be opened?"
      ],
      "metadata": {
        "id": "VY81JE_hFUJ-"
      }
    },
    {
      "cell_type": "markdown",
      "source": [
        "Ans. For `PdfFileReader()` file objects should be opened in `rb` -> read binary mode, Whereas for `PdfFileWriter()` file objects should be opened in `wb` -> write binary mode."
      ],
      "metadata": {
        "id": "oaYl-Ib8FZjJ"
      }
    },
    {
      "cell_type": "markdown",
      "source": [
        "2. From a PdfFileReader object, how do you get a Page object for page 5?"
      ],
      "metadata": {
        "id": "H4hKEKgCFcOi"
      }
    },
    {
      "cell_type": "markdown",
      "source": [
        "Ans. `PdfFileReader` class provides a method called `getPage(page_no)` to get a page object."
      ],
      "metadata": {
        "id": "RBamzkUtFiMd"
      }
    },
    {
      "cell_type": "markdown",
      "source": [
        "3. What PdfFileReader variable stores the number of pages in the PDF document?"
      ],
      "metadata": {
        "id": "OE_HKFP9FuWw"
      }
    },
    {
      "cell_type": "markdown",
      "source": [
        "Ans. `getNumPages()` method of `PdfFileReader` class stores the no pages in a PDF document"
      ],
      "metadata": {
        "id": "HKXfbkr8FwQC"
      }
    },
    {
      "cell_type": "markdown",
      "source": [
        "4. If a PdfFileReader object’s PDF is encrypted with the password swordfish, what must you do before you can obtain Page objects from it?"
      ],
      "metadata": {
        "id": "bP46YbUwF2qq"
      }
    },
    {
      "cell_type": "markdown",
      "source": [
        "Ans. If a `PdfFileReader` object’s PDF is encrypted with the password `swordfish` and you're not aware of it. first read the Pdf using the `PdfFileReader` Class. `PdfFileReader` class provides a attribute called `isEncrypted` to check whether a pdf is encrypted or not. the method returns true if a pdf is encrypted and vice versa.\n",
        "if pdf is encrypted use the `decrypt()` method provided by PdfFileReader class first then try to read the contents/pages of the pdf, else `PyPDF2` will raise the following error `PyPDF2.utils.PdfReadError: file has not been decrypted`"
      ],
      "metadata": {
        "id": "33UqrpXtF3-k"
      }
    },
    {
      "cell_type": "markdown",
      "source": [
        "5. What methods do you use to rotate a page?\n",
        "Ans: PyPDF2 Package provides 2 methods to rotate a page:"
      ],
      "metadata": {
        "id": "0GXX9runGIkP"
      }
    },
    {
      "cell_type": "markdown",
      "source": [
        "Ans. `rotateClockWise()` -> For Clockwise rotation\n",
        "`rotateCounterClockWise()` -> For Counter Clockwise rotation\n",
        "The `PyPDF2` package only allows you to rotate a page in increments of `90 degrees`. You will receive an `AssertionError` otherwise."
      ],
      "metadata": {
        "id": "oggDMBqpGR2o"
      }
    },
    {
      "cell_type": "markdown",
      "source": [
        "6. What is the difference between a Run object and a Paragraph object?"
      ],
      "metadata": {
        "id": "Sbq2gbzQGMUc"
      }
    },
    {
      "cell_type": "markdown",
      "source": [
        "Ans. The structure of a document is represented by three different data types in `python-Docx`. At the highest level, a `Document` object represents the entire document. The Document object contains a list of `Paragraph` objects for the paragraphs in the document. (A new paragraph begins whenever the user presses `ENTER` or `RETURN` while typing in a Word document.) Each of these Paragraph objects contains a list of one or more `Run` objects.\n",
        "\n",
        "The text in a Word document is more than just a string. It has font, size, color, and other styling information associated with it. A style in Word is a collection of these attributes. A Run object is a contiguous run of text with the same style. A new Run object is needed whenever the text style changes."
      ],
      "metadata": {
        "id": "Wre29mk8GQDE"
      }
    },
    {
      "cell_type": "markdown",
      "source": [
        "7. How do you obtain a list of Paragraph objects for a Document object that’s stored in a variable named doc?"
      ],
      "metadata": {
        "id": "fdmS6I_qGalX"
      }
    },
    {
      "cell_type": "code",
      "source": [
        "# Example Program\n",
        "from docx import Document\n",
        "doc = Document(\"sample_file.docx\") # Path of the Docx file\n",
        "print(doc.paragraphs) # Prints the list of Paragraph objects for a Document\n",
        "for paragraph in doc.paragraphs:\n",
        "    print(paragraph.text) # Prints the text in the paragraph"
      ],
      "metadata": {
        "id": "1OxZHcemGePe"
      },
      "execution_count": null,
      "outputs": []
    },
    {
      "cell_type": "markdown",
      "source": [
        "8. What type of object has bold, underline, italic, strike, and outline variables?\n"
      ],
      "metadata": {
        "id": "wTjqSsvWGg0G"
      }
    },
    {
      "cell_type": "markdown",
      "source": [
        "Ans. `Run` object has bold, underline, italic, strike, and outline variables. The text in a Word document is more than just a string. It has font, size, color, and other styling information associated with it.\n",
        "\n",
        "A style in Word is a collection of these attributes. A Run object is a contiguous run of text with the same style. A new Run object is needed whenever the text style changes."
      ],
      "metadata": {
        "id": "tB-xX_xOGi_0"
      }
    },
    {
      "cell_type": "markdown",
      "source": [
        "9. What is the difference between False, True, and None for the bold variable?"
      ],
      "metadata": {
        "id": "ZkcZkxA1GjP0"
      }
    },
    {
      "cell_type": "code",
      "source": [
        "bold = True  # Style Set to Bold\n",
        "bold = False # Style Not Set to Bold\n",
        "bold = None # Style is Not Applicable"
      ],
      "metadata": {
        "id": "ouvR6sV0GgSC"
      },
      "execution_count": null,
      "outputs": []
    },
    {
      "cell_type": "markdown",
      "source": [
        "10. How do you create a Document object for a new Word document?"
      ],
      "metadata": {
        "id": "sEBsD5D5GvH8"
      }
    },
    {
      "cell_type": "code",
      "source": [
        "# Example Program\n",
        "from docx import Document\n",
        "document = Document()\n",
        "document.add_paragraph(\"iNeuron Full Stack DataScience Course\")\n",
        "document.save('mydocument.docx')"
      ],
      "metadata": {
        "id": "YrOd2q40GuIZ"
      },
      "execution_count": null,
      "outputs": []
    },
    {
      "cell_type": "markdown",
      "source": [
        "11. How do you add a paragraph with the text 'Hello, there!' to a Document object stored in a variable named doc?"
      ],
      "metadata": {
        "id": "oNOwa6G1Gy34"
      }
    },
    {
      "cell_type": "code",
      "source": [
        "# Example Program\n",
        "from docx import Document\n",
        "doc = Document()\n",
        "doc.add_paragraph('Hello, there!')\n",
        "doc.save('hello.docx')"
      ],
      "metadata": {
        "id": "reqEahRBGyVd"
      },
      "execution_count": null,
      "outputs": []
    },
    {
      "cell_type": "markdown",
      "source": [
        "12. What integers represent the levels of headings available in Word documents?"
      ],
      "metadata": {
        "id": "CB1idQWhG2Eo"
      }
    },
    {
      "cell_type": "markdown",
      "source": [
        "Ans. The levels for a heading in a word document can be specified by using the `level` attribute inside the `add_heading` method. There are a total of 5 levels statring for 0 t0 4. where level 0 makes a headline with the horizontal line below the text, whereas the heading level 1 is the main heading. Similarly, the other headings are sub-heading with their's font-sizes in decreasing order."
      ],
      "metadata": {
        "id": "a_5ZW1P-G3VO"
      }
    }
  ]
}