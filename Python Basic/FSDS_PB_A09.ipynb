{
  "nbformat": 4,
  "nbformat_minor": 0,
  "metadata": {
    "colab": {
      "provenance": []
    },
    "kernelspec": {
      "name": "python3",
      "display_name": "Python 3"
    },
    "language_info": {
      "name": "python"
    }
  },
  "cells": [
    {
      "cell_type": "markdown",
      "source": [
        "1. To what does a relative path refer?\n",
        "2. What does an absolute path start with your operating system?\n",
        "3. What do the functions os.getcwd() and os.chdir() do?\n",
        "4. What are the . and .. folders?\n",
        "5. In C:\\bacon\\eggs\\spam.txt, which part is the dir name, and which part is the base name?\n",
        "6. What are the three “mode” arguments that can be passed to the open() function?\n",
        "7. What happens if an existing file is opened in write mode?\n",
        "8. How do you tell the difference between read() and readlines()?\n",
        "9. What data structure does a shelf value resemble?"
      ],
      "metadata": {
        "id": "zinN1pEx7qc1"
      }
    },
    {
      "cell_type": "markdown",
      "source": [
        "Ans1. The relative path is the path to some file with respect to your current working directory (PWD).\n",
        "For example: if Absolute path to a file called stuff.txt is: C:/users/admin/docs/stuff.txt If my PWD is C:/users/admin/ , then the relative path to stuff.txt would be: docs/stuff.txt\n",
        "Note: PWD + relative path = absolute path"
      ],
      "metadata": {
        "id": "BavdKsZgENYW"
      }
    },
    {
      "cell_type": "markdown",
      "source": [
        "Ans2. In Linux based systems the absolute path starts with /. Where as in Windows based systems absolute path starts with C:"
      ],
      "metadata": {
        "id": "PJHsBeKuEOPZ"
      }
    },
    {
      "cell_type": "markdown",
      "source": [
        "Ans3. os.getcwd() method tells us the location of current working directory (CWD). \n",
        "Whereas os.chdir() method in Python used to change the current working directory to specified path. These functions are similar to linux commands pwd and cd"
      ],
      "metadata": {
        "id": "_HpafqZwEa0D"
      }
    },
    {
      "cell_type": "markdown",
      "source": [
        "Ans4. . Represents the Current Directory Whereas .. Represents the Parent Directory of the Current Directory"
      ],
      "metadata": {
        "id": "rD9JfGM1Emw0"
      }
    },
    {
      "cell_type": "markdown",
      "source": [
        "Ans5. For C:\\bacon\\eggs\\spam.txt\n",
        "The dir name is C:\\\\bacon\\\\eggs\n",
        "The Base name is spam.txt"
      ],
      "metadata": {
        "id": "6tqIrvN6Ezev"
      }
    },
    {
      "cell_type": "markdown",
      "source": [
        "Ans6. A file can be Accessed in python using open() function. open function takes two arguments filename and mode of operation (optional). if mode is not provided the default mode of opening is read mode\n",
        "So, the syntax being: open(filename, mode)\n",
        "\n",
        "- ‘r’ – Read Mode: This is the default mode for open(). The file is opened and a pointer is positioned at the beginning of the file’s content.\n",
        "- ‘w’ – Write Mode: Using this mode will overwrite any existing content in a file. If the given file does not exist, a new one will be created.\n",
        "- ‘r+’ – Read/Write Mode: Use this mode if you need to simultaneously read and write to a file.\n",
        "- ‘a’ – Append Mode: With this mode the user can append the data without overwriting any already existing data in the file.\n",
        "- ‘a+’ – Append and Read Mode: In this mode you can read and append the data without overwriting the original file.\n",
        "- ‘x’ – Exclusive Creating Mode: This mode is for the sole purpose of creating new files. Use this mode if you know the file to be written doesn’t exist beforehand."
      ],
      "metadata": {
        "id": "ZLzIpHeOE3rZ"
      }
    },
    {
      "cell_type": "markdown",
      "source": [
        "Ans7. Using this mode will overwrite any existing content in a file. If the given file does not exist, a new one will be created."
      ],
      "metadata": {
        "id": "wtnaVU64FGwM"
      }
    },
    {
      "cell_type": "markdown",
      "source": [
        "Ans8. The main difference is that read() will read the whole file at once and then print out the first characters that take up as many bytes as you specify in the parenthesis\n",
        "\n",
        "Whereas the readline() that will read and print out only the first characters that take up as many bytes as you specify in the parenthesis. You may want to use readline() when you're reading files that are too big for your RAM.\n",
        "\n",
        "The read() would treat each character in the file separately, meaning that the iteration would happen for every character.\n",
        "\n",
        "The readline() function, on the other hand, only reads a single line of the file. This means that if the first line of the file were three lines long, the readline() function would only parse (or iterate/operate) on the first line of the file."
      ],
      "metadata": {
        "id": "CVMprXLnFKrm"
      }
    },
    {
      "cell_type": "markdown",
      "source": [
        "Ans9. It contains key and values it represents dictionary."
      ],
      "metadata": {
        "id": "d35fqzAVFN7U"
      }
    }
  ]
}