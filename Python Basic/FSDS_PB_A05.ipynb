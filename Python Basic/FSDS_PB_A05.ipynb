{
  "nbformat": 4,
  "nbformat_minor": 0,
  "metadata": {
    "colab": {
      "provenance": []
    },
    "kernelspec": {
      "name": "python3",
      "display_name": "Python 3"
    },
    "language_info": {
      "name": "python"
    }
  },
  "cells": [
    {
      "cell_type": "markdown",
      "source": [
        "1. What does an empty dictionary&#39;s code look like?"
      ],
      "metadata": {
        "id": "l3MwReQ17dTo"
      }
    },
    {
      "cell_type": "code",
      "source": [
        "empty_dict = {}"
      ],
      "metadata": {
        "id": "9CmSXd667eeg"
      },
      "execution_count": null,
      "outputs": []
    },
    {
      "cell_type": "markdown",
      "source": [
        "2. What is the value of a dictionary value with the key &#39;foo&#39; and the value 42?"
      ],
      "metadata": {
        "id": "nicIoIdc7k_q"
      }
    },
    {
      "cell_type": "code",
      "source": [
        "f = {'foo': 42}"
      ],
      "metadata": {
        "id": "6I0puxd275TF"
      },
      "execution_count": null,
      "outputs": []
    },
    {
      "cell_type": "markdown",
      "source": [
        "3. What is the most significant distinction between a dictionary and a list?"
      ],
      "metadata": {
        "id": "SIsKYm1D7nKj"
      }
    },
    {
      "cell_type": "markdown",
      "source": [
        "The list is an ordered collection of data, whereas the dictionaries store the data in the form of key-value pairs using the hashtable structure."
      ],
      "metadata": {
        "id": "3mJNXsiP-JIE"
      }
    },
    {
      "cell_type": "markdown",
      "source": [
        "4. What happens if you try to access spam[&#39;foo&#39;] if spam is {&#39;bar&#39;: 100}?"
      ],
      "metadata": {
        "id": "gtYTZ_S87nPA"
      }
    },
    {
      "cell_type": "code",
      "source": [
        "100"
      ],
      "metadata": {
        "id": "EvixgXvn75wN"
      },
      "execution_count": null,
      "outputs": []
    },
    {
      "cell_type": "markdown",
      "source": [
        "5. If a dictionary is stored in spam, what is the difference between the expressions &#39;cat&#39; in spam and\n",
        "&#39;cat&#39; in spam.keys()?"
      ],
      "metadata": {
        "id": "xGD14aNX7nRQ"
      }
    },
    {
      "cell_type": "markdown",
      "source": [
        "Ans.TThere is no difference. The in operator checks whether a value exists as a key in the dictionary."
      ],
      "metadata": {
        "id": "N9P8UGCH6G3I"
      }
    },
    {
      "cell_type": "markdown",
      "source": [
        "6. If a dictionary is stored in spam, what is the difference between the expressions &#39;cat&#39; in spam and\n",
        "&#39;cat&#39; in spam.values()?"
      ],
      "metadata": {
        "id": "VYeyJHOO7nTY"
      }
    },
    {
      "cell_type": "markdown",
      "source": [
        "'cat' in spam checks whether there is a 'cat' key in the dictionary, while 'cat' in spam.values() checks whether there is a value 'cat' for one of the keys in spam."
      ],
      "metadata": {
        "id": "FViNLAg960K0"
      }
    },
    {
      "cell_type": "markdown",
      "source": [
        "7. What is a shortcut for the following code?\n",
        "\n",
        "if &#39;color&#39; not in spam:\n",
        "\n",
        "spam[&#39;color&#39;] = &#39;black&#39;"
      ],
      "metadata": {
        "id": "sEKtDbLT7xAb"
      }
    },
    {
      "cell_type": "code",
      "source": [
        "spam.setdefault('color', 'black')"
      ],
      "metadata": {
        "id": "luxGsQ2l78Dk"
      },
      "execution_count": null,
      "outputs": []
    },
    {
      "cell_type": "markdown",
      "source": [
        "8. How do you &quot;pretty print&quot; dictionary values using which module and function?"
      ],
      "metadata": {
        "id": "xxuTYNhe7mVE"
      }
    },
    {
      "cell_type": "code",
      "source": [
        "pprint.pprint()"
      ],
      "metadata": {
        "id": "etXzd4tZ78k1"
      },
      "execution_count": null,
      "outputs": []
    }
  ]
}