{
 "cells": [
  {
   "cell_type": "markdown",
   "metadata": {},
   "source": [
    "Q.1. Why are functions advantageous to have in your programs?\n",
    "\n",
    "Ans. Functions reduce the need for duplicate code. This makes programs shorter, easier to read, and easier to update.\n",
    "\n",
    "---\n",
    "\n",
    "Q.3. When does the code in a function run: when it's specified or when it's called?\n",
    "\n",
    "Ans. Code in the function runs when the function is called\n",
    "\n",
    "---\n",
    "\n",
    "Q.4. What statement creates a function?\n",
    "\n",
    "Ans. The def statement defines a function.\n",
    "\n",
    "---\n",
    "\n",
    "Q.5. What is the difference between a function and a function call?\n",
    "\n",
    "Ans. A function consists of the def statement and the code in its def clause.\n",
    "\n",
    "A function call is what moves the program execution into the function, and the function call evaluates to the function's return value.\n",
    "\n",
    "---\n"
   ]
  },
  {
   "cell_type": "code",
   "execution_count": null,
   "metadata": {},
   "outputs": [],
   "source": [
    "def my_func(): # function definition\n",
    "    pass \n",
    "\n",
    "my_func() #function call"
   ]
  },
  {
   "cell_type": "markdown",
   "metadata": {},
   "source": [
    "Q.6. How many global scopes are there in a Python program? How many local scopes?\n",
    "\n",
    "Ans. There's only one global Python scope per program execution. This scope remains in existence until the program terminates , and a local scope is created whenever a function is called.\n",
    "\n",
    "---\n",
    "\n",
    "Q.7. What happens to variables in a local scope when the function call returns?\n",
    "\n",
    "Ans. When a function returns, the local scope is destroyed.\n",
    "\n",
    "---\n",
    "\n",
    "Q.8. What is the concept of a return value? Is it possible to have a return value in an expression?\n",
    "\n",
    "Ans. A return value is the value that a function call evaluates to. Like any value, a return value can be used as part of an expression.\n",
    "\n",
    "---\n",
    "\n",
    "Q.9. If a function does not have a return statement, what is the return value of a call to that function?\n",
    "\n",
    "Ans. If the function does not have a return statement it will not return anything.\n",
    "\n",
    "---\n",
    "\n",
    "Q.10. How do you make a function variable refer to the global variable?\n",
    "\n",
    "Ans. To make function variable as a global variable you can use the global keyword to declare which variables are global.\n",
    "\n",
    "---\n",
    "\n",
    "Q.11. What is the data type of None?\n",
    "\n",
    "Ans. The data type of None is NoneType.\n",
    "\n",
    "---\n",
    "\n",
    "Q.12. What does the sentence import areallyourpetsnamederic do?\n",
    "\n",
    "Ans. That import statement imports a module named areallyourpetsnamederic. (But a module of this name doesnt exists in Python)\n",
    "\n",
    "---\n",
    "\n",
    "Q.13. If you had a bacon() feature in a spam module, what would you call it after importing spam?\n",
    "\n",
    "Ans. "
   ]
  },
  {
   "cell_type": "code",
   "execution_count": null,
   "metadata": {},
   "outputs": [],
   "source": [
    "import spam\n",
    "spam.bacon()"
   ]
  },
  {
   "cell_type": "markdown",
   "metadata": {},
   "source": [
    "Q.14. What can you do to save a programme from crashing if it encounters an error?\n",
    "\n",
    "Ans. We can use try except clause to save a program from crashing.\n",
    "\n",
    "---\n",
    "\n",
    "Q.15. What is the purpose of the try clause? What is the purpose of the except clause?\n",
    "\n",
    "Ans. Try and Except clause is used to handle the errors within our code . The try block is used to check some code for errors i.e the code inside the try block will execute when there is no error in the program. Whereas the code inside the except block will execute whenever the program encounters some error in the try block."
   ]
  },
  {
   "cell_type": "markdown",
   "metadata": {},
   "source": []
  }
 ],
 "metadata": {
  "kernelspec": {
   "display_name": "Python 3.10.6 64-bit",
   "language": "python",
   "name": "python3"
  },
  "language_info": {
   "name": "python",
   "version": "3.10.6"
  },
  "orig_nbformat": 4,
  "vscode": {
   "interpreter": {
    "hash": "876db7d3f8682b7e4c5477e5f1e2dc2bd1b19fe05d9aabd59218369070754b39"
   }
  }
 },
 "nbformat": 4,
 "nbformat_minor": 2
}
