{
  "nbformat": 4,
  "nbformat_minor": 0,
  "metadata": {
    "colab": {
      "provenance": []
    },
    "kernelspec": {
      "name": "python3",
      "display_name": "Python 3"
    },
    "language_info": {
      "name": "python"
    }
  },
  "cells": [
    {
      "cell_type": "markdown",
      "source": [
        "1. What does RGBA stand for?"
      ],
      "metadata": {
        "id": "paIdzAHuLHiG"
      }
    },
    {
      "cell_type": "markdown",
      "source": [
        "Ans. RGBA is a four-channel format containing data for Red, Green, Blue, and an Alpha value. Where Alpha Represents the Opacity"
      ],
      "metadata": {
        "id": "doG-IE2qLJJH"
      }
    },
    {
      "cell_type": "markdown",
      "source": [
        "2. From the Pillow module, how do you get the RGBA value of any images?"
      ],
      "metadata": {
        "id": "Uj1vYG7QLNRc"
      }
    },
    {
      "cell_type": "markdown",
      "source": [
        "Ans. ImageColor.getcolor() gives rgba value of any image\n"
      ],
      "metadata": {
        "id": "7trtCf5cLOlH"
      }
    },
    {
      "cell_type": "markdown",
      "source": [
        "3. What is a box tuple, and how does it work?"
      ],
      "metadata": {
        "id": "k24IPQ42LPnt"
      }
    },
    {
      "cell_type": "markdown",
      "source": [
        "Ans. A box tuple is a tuple value of four integers: the left-edge x-coordinate, the top-edge y-coordinate,the width, and the height, respectively."
      ],
      "metadata": {
        "id": "GzTVPvO2LQxv"
      }
    },
    {
      "cell_type": "markdown",
      "source": [
        "4. Use your image and load in notebook then, How can you find out the width and height of an Image object?"
      ],
      "metadata": {
        "id": "jvOIsVFDLSPu"
      }
    },
    {
      "cell_type": "code",
      "source": [
        "#Example Program\n",
        "from PIL import Image\n",
        "path = 'path of image'\n",
        "pic = Image.open(path)\n",
        "print(f'Width, Height -> {pic.size}') # Approach 1\n",
        "print(f'Width, Height -> {pic.width},{pic.height}') # Approach 2\n",
        "width,height = pic.size\n",
        "print(f'Width, Height -> {width},{height}') # Approach 3"
      ],
      "metadata": {
        "id": "oqk8-xfHLZyl"
      },
      "execution_count": null,
      "outputs": []
    },
    {
      "cell_type": "markdown",
      "source": [
        "5. What method would you call to get Image object for a 100×100 image, excluding the lower-left quarter of it?"
      ],
      "metadata": {
        "id": "h_4ogS84Lbls"
      }
    },
    {
      "cell_type": "code",
      "source": [
        "from PIL import Image\n",
        "img = Image.open(path)\n",
        "new_img = img.crop((0,50,50,50))"
      ],
      "metadata": {
        "id": "xdRL118kLc0l"
      },
      "execution_count": null,
      "outputs": []
    },
    {
      "cell_type": "markdown",
      "source": [
        "6. After making changes to an Image object, how could you save it as an image file?"
      ],
      "metadata": {
        "id": "GgrRDytjLc6L"
      }
    },
    {
      "cell_type": "code",
      "source": [
        "#Example Program\n",
        "from PIL import Image\n",
        "pic = Image.open(path)\n",
        "pic.save('pic2.jpg')"
      ],
      "metadata": {
        "id": "95Xg6o8jLei8"
      },
      "execution_count": null,
      "outputs": []
    },
    {
      "cell_type": "markdown",
      "source": [
        "7. What module contains Pillow’s shape-drawing code?"
      ],
      "metadata": {
        "id": "BcPbySe1LeqC"
      }
    },
    {
      "cell_type": "markdown",
      "source": [
        "Ans. Pillows ImageDraw module contains Shape drawing methods"
      ],
      "metadata": {
        "id": "MOkt9nwDLjlH"
      }
    },
    {
      "cell_type": "markdown",
      "source": [
        "8. Image objects do not have drawing methods. What kind of object does? How do you get this kind of object?"
      ],
      "metadata": {
        "id": "o3ywKGCvLfr4"
      }
    },
    {
      "cell_type": "markdown",
      "source": [
        "Ans. ImageDraw objects have shape-drawing methods such as point(), line(), or rectangle().They are returned by passing the Image object to the ImageDraw.Draw() function."
      ],
      "metadata": {
        "id": "kVfPDP6hLl5r"
      }
    }
  ]
}