{
  "nbformat": 4,
  "nbformat_minor": 0,
  "metadata": {
    "colab": {
      "provenance": []
    },
    "kernelspec": {
      "name": "python3",
      "display_name": "Python 3"
    },
    "language_info": {
      "name": "python"
    }
  },
  "cells": [
    {
      "cell_type": "markdown",
      "source": [
        "1. What are escape characters, and how do you use them?"
      ],
      "metadata": {
        "id": "B6anWNkZ5aVX"
      }
    },
    {
      "cell_type": "markdown",
      "source": [
        "Escape characters represent characters in string values that would otherwise be difficult or impossible to type into code."
      ],
      "metadata": {
        "id": "hsMTP8lY71HM"
      }
    },
    {
      "cell_type": "markdown",
      "source": [
        "2. What do the escape characters n and t stand for?"
      ],
      "metadata": {
        "id": "J3-uON-o5dIq"
      }
    },
    {
      "cell_type": "markdown",
      "source": [
        "newline (\\n) & tab (\\t)"
      ],
      "metadata": {
        "id": "Q5KHb-zZ8G-b"
      }
    },
    {
      "cell_type": "markdown",
      "source": [
        "3. What is the way to include backslash characters in a string?"
      ],
      "metadata": {
        "id": "U6Cyb6Cz5eqT"
      }
    },
    {
      "cell_type": "markdown",
      "source": [
        "Ans. By using \"\\\\Tasks\" or verbatim string like @\"\\Tasks\""
      ],
      "metadata": {
        "id": "cl62ZQI38yOY"
      }
    },
    {
      "cell_type": "markdown",
      "source": [
        "4. The string &quot;Howl&#39;s Moving Castle&quot; is a correct value. Why isn&#39;t the single quote character in the\n",
        "word Howl&#39;s not escaped a problem?"
      ],
      "metadata": {
        "id": "XqGUKB5I5f6Y"
      }
    },
    {
      "cell_type": "markdown",
      "source": [
        "Ans. The single quote in Howl's is fine because you've used double quotes to mark the beginning and end of the string."
      ],
      "metadata": {
        "id": "JjraMA1G9L_9"
      }
    },
    {
      "cell_type": "markdown",
      "source": [
        "5. How do you write a string of newlines if you don&#39;t want to use the n character?"
      ],
      "metadata": {
        "id": "Ka6SMxyN5hBO"
      }
    },
    {
      "cell_type": "code",
      "source": [],
      "metadata": {
        "id": "kv1z-aTS5ozg"
      },
      "execution_count": null,
      "outputs": []
    },
    {
      "cell_type": "markdown",
      "source": [
        "6. What are the values of the given expressions?\n",
        "\n",
        "&#39;Hello, world!&#39;[1]\n",
        "\n",
        "&#39;Hello, world!&#39;[0:5]\n",
        "\n",
        "&#39;Hello, world!&#39;[:5]\n",
        "\n",
        "&#39;Hello, world!&#39;[3:]"
      ],
      "metadata": {
        "id": "_0uO3H0q5iTV"
      }
    },
    {
      "cell_type": "markdown",
      "source": [
        "'e'\n",
        "\n",
        "'Hello'\n",
        "\n",
        "'Hello'\n",
        "\n",
        "'lo, world!'"
      ],
      "metadata": {
        "id": "VdXa2JYw-4Hq"
      }
    },
    {
      "cell_type": "markdown",
      "source": [
        "7. What are the values of the following expressions?\n",
        "\n",
        "&#39;Hello&#39;.upper()\n",
        "\n",
        "&#39;Hello&#39;.upper().isupper()\n",
        "\n",
        "&#39;Hello&#39;.upper().lower()"
      ],
      "metadata": {
        "id": "282F9_uj5tjo"
      }
    },
    {
      "cell_type": "markdown",
      "source": [
        "'HELLO'\n",
        "\n",
        "True\n",
        "\n",
        "'hello'"
      ],
      "metadata": {
        "id": "cCPslU6V_L2u"
      }
    },
    {
      "cell_type": "markdown",
      "source": [
        "8. What are the values of the following expressions?\n",
        "\n",
        "&#39;Remember, remember, the fifth of July.&#39;.split()\n",
        "\n",
        "&#39;-&#39;.join(&#39;There can only one.&#39;.split())"
      ],
      "metadata": {
        "id": "X-mtbSb25xik"
      }
    },
    {
      "cell_type": "markdown",
      "source": [
        "['Remember,', 'remember,', 'the', 'fifth', 'of', 'July.']\n",
        "\n",
        "'There-can-only-one.'"
      ],
      "metadata": {
        "id": "MPiLKcYS_ktM"
      }
    },
    {
      "cell_type": "markdown",
      "source": [
        "9. What are the methods for right-justifying, left-justifying, and centering a string?"
      ],
      "metadata": {
        "id": "bV8_22Pz52rE"
      }
    },
    {
      "cell_type": "markdown",
      "source": [
        "ljust()\n",
        "\n",
        "rjust()\n",
        "\n",
        "center()"
      ],
      "metadata": {
        "id": "yeEbwMK0_2lI"
      }
    },
    {
      "cell_type": "markdown",
      "source": [
        "10. What is the best way to remove whitespace characters from the start or end?"
      ],
      "metadata": {
        "id": "xtv9_IXl55Cg"
      }
    },
    {
      "cell_type": "markdown",
      "source": [
        "strip()"
      ],
      "metadata": {
        "id": "q_H1FhtnAMux"
      }
    }
  ]
}